{
 "cells": [
  {
   "cell_type": "markdown",
   "id": "c5f3887b-7b32-46a3-913a-abeb8ad1b8cb",
   "metadata": {},
   "source": [
    "### Vishal Sharma"
   ]
  },
  {
   "cell_type": "markdown",
   "id": "f141bb16-54fb-4428-8aa6-a6d0b7b93e6c",
   "metadata": {},
   "source": [
    "# Robot Navigation in a Maze Using DFS (with Python Code)\n",
    "This project demonstrates how to design a robot navigation strategy for a simple maze using the Depth-First Search (DFS) algorithm, as explained in the provided PDF. The workflow includes representing the maze, implementing the DFS algorithm, reconstructing the path, and executing the solution."
   ]
  },
  {
   "cell_type": "markdown",
   "id": "c0712c5c-23ce-41f5-87e5-3acaa8d1381c",
   "metadata": {},
   "source": [
    "### 1. Importing Required Libraries"
   ]
  },
  {
   "cell_type": "code",
   "execution_count": 1,
   "id": "2bcf60cd-1161-4ef2-9393-dd4fbbd48dbf",
   "metadata": {},
   "outputs": [],
   "source": [
    "import numpy as np\n",
    "import matplotlib.pyplot as plt"
   ]
  },
  {
   "cell_type": "markdown",
   "id": "27541714-1a6e-4b8f-bfa5-2d868a0b4a8e",
   "metadata": {},
   "source": [
    "### 2. Maze Representation\n",
    "We'll define a simple 5x5 maze for demonstration. The maze is represented as a 2D list where 0 denotes open paths and 1 denotes walls or obstacles."
   ]
  },
  {
   "cell_type": "code",
   "execution_count": 2,
   "id": "077ff6b9-a9ad-47a3-8388-1620ded422a8",
   "metadata": {},
   "outputs": [],
   "source": [
    "maze = [\n",
    "    [0, 0, 1, 0, 0],\n",
    "    [0, 0, 0, 0, 0],\n",
    "    [0, 1, 1, 1, 0],\n",
    "    [0, 1, 0, 0, 0],\n",
    "    [0, 0, 0, 1, 0]\n",
    "]\n",
    "\n",
    "start = (0, 0)  # Top-left corner\n",
    "goal = (4, 4)   # Bottom-right corner\n"
   ]
  },
  {
   "cell_type": "markdown",
   "id": "cdbdc63a-b1e4-4be0-8da2-738910da5e12",
   "metadata": {},
   "source": [
    "### 3. Helper Function to Get Neighbors\r\n",
    "The function below finds all valid (open) neighboring cells for a given cell, considering movement in up, down, left, and right directions"
   ]
  },
  {
   "cell_type": "code",
   "execution_count": 3,
   "id": "47bfb21d-c7ef-4cbf-9b37-a47b847056d7",
   "metadata": {},
   "outputs": [],
   "source": [
    "def get_neighbors(maze, cell):\n",
    "    neighbors = []\n",
    "    directions = [(-1, 0), (1, 0), (0, -1), (0, 1)]  # Up, Down, Left, Right\n",
    "    rows, cols = len(maze), len(maze[0])\n",
    "\n",
    "    for dir in directions:\n",
    "        neighbor = (cell[0] + dir[0], cell[1] + dir[1])\n",
    "        if 0 <= neighbor[0] < rows and 0 <= neighbor[1] < cols:\n",
    "            if maze[neighbor[0]][neighbor[1]] == 0:  # Open cell\n",
    "                neighbors.append(neighbor)\n",
    "\n",
    "    return neighbors\n"
   ]
  },
  {
   "cell_type": "markdown",
   "id": "b3c46a1e-aeea-4433-9197-e37575fceb06",
   "metadata": {},
   "source": [
    "### 4. Implementing the DFS Algorithm\r\n",
    "Here is a Python implementation of the DFS-based maze navigation strategy:"
   ]
  },
  {
   "cell_type": "code",
   "execution_count": 4,
   "id": "f2d0cc0a-1c14-4157-bbcf-5ec2a38fbce7",
   "metadata": {},
   "outputs": [],
   "source": [
    "def dfs(maze, start, goal):\n",
    "    stack = [start]\n",
    "    visited = set()\n",
    "    visited.add(start)\n",
    "    parent = {start: None}\n",
    "\n",
    "    while stack:\n",
    "        current = stack.pop()\n",
    "        if current == goal:\n",
    "            break\n",
    "        for neighbor in get_neighbors(maze, current):\n",
    "            if neighbor not in visited:\n",
    "                stack.append(neighbor)\n",
    "                visited.add(neighbor)\n",
    "                parent[neighbor] = current\n",
    "\n",
    "    # Reconstruct path\n",
    "    path = []\n",
    "    step = goal\n",
    "    while step is not None:\n",
    "        path.append(step)\n",
    "        step = parent.get(step)\n",
    "    path.reverse()\n",
    "\n",
    "    # Check if a path was found\n",
    "    if path[0] != start:\n",
    "        return None\n",
    "    return path\n"
   ]
  },
  {
   "cell_type": "markdown",
   "id": "cb004746-5c7a-4075-b612-ab0c75d50a19",
   "metadata": {},
   "source": [
    "### 5. Executing DFS and Outputting the Path"
   ]
  },
  {
   "cell_type": "code",
   "execution_count": 5,
   "id": "2307e99a-2669-4f70-bc37-3c6185f2f3ce",
   "metadata": {},
   "outputs": [
    {
     "name": "stdout",
     "output_type": "stream",
     "text": [
      "Optimal Path: [(0, 0), (0, 1), (1, 1), (1, 2), (1, 3), (1, 4), (2, 4), (3, 4), (4, 4)]\n"
     ]
    }
   ],
   "source": [
    "optimal_path = dfs(maze, start, goal)\n",
    "if optimal_path:\n",
    "    print(\"Optimal Path:\", optimal_path)\n",
    "else:\n",
    "    print(\"No path found from start to goal!\")\n"
   ]
  },
  {
   "cell_type": "markdown",
   "id": "c160e613-302d-49f2-a401-ffebd21ae18a",
   "metadata": {},
   "source": [
    "### 6. Visualizing the Maze and Path "
   ]
  },
  {
   "cell_type": "code",
   "execution_count": 6,
   "id": "3c7fa4f9-f303-4f34-8735-32050308bfec",
   "metadata": {},
   "outputs": [
    {
     "data": {
      "image/png": "[encoded data removed]",
      "text/plain": [
       "<Figure size 600x600 with 1 Axes>"
      ]
     },
     "metadata": {},
     "output_type": "display_data"
    }
   ],
   "source": [
    "def visualize_maze(maze, path):\n",
    "    maze_arr = np.array(maze)\n",
    "    plt.figure(figsize=(6,6))\n",
    "    plt.imshow(maze_arr, cmap='binary', origin='upper')\n",
    "\n",
    "    # Plot path if one exists\n",
    "    if path:\n",
    "        path_coords = list(zip(*path))\n",
    "        plt.plot(path_coords[1], path_coords[0], color='red', linewidth=2, marker='o')\n",
    "        plt.scatter(path_coords[1][0], path_coords[0][0], color='green', s=100, label='Start')\n",
    "        plt.scatter(path_coords[1][-1], path_coords[0][-1], color='blue', s=100, label='Goal')\n",
    "\n",
    "    plt.legend()\n",
    "    plt.xticks(np.arange(maze_arr.shape[1]))\n",
    "    plt.yticks(np.arange(maze_arr.shape[0]))\n",
    "    plt.grid(True)\n",
    "    plt.title(\"Maze Navigation Path Using DFS\")\n",
    "    plt.show()\n",
    "\n",
    "# Call visualization\n",
    "visualize_maze(maze, optimal_path)\n"
   ]
  },
  {
   "cell_type": "markdown",
   "id": "18d76a07-352e-4c4e-84b0-2a34c44e01fc",
   "metadata": {},
   "source": [
    "### 7. Handling No Path Found\n",
    "The dfs function ensures that a result is only returned if a path exists. Otherwise, it indicates that no path could be found, handling edge cases gracefully."
   ]
  },
  {
   "cell_type": "markdown",
   "id": "996ef58f-128f-41d5-916e-900399ddbd3f",
   "metadata": {},
   "source": [
    "### 8. Custom Maze Datasets\n",
    "You can create and test with your own datasets by redefining the maze variable. For example:"
   ]
  },
  {
   "cell_type": "code",
   "execution_count": 7,
   "id": "fa87046e-3195-4964-a2bc-03d1cc275320",
   "metadata": {},
   "outputs": [
    {
     "data": {
      "image/png": "[encoded data removed]",
      "text/plain": [
       "<Figure size 600x600 with 1 Axes>"
      ]
     },
     "metadata": {},
     "output_type": "display_data"
    },
    {
     "name": "stdout",
     "output_type": "stream",
     "text": [
      "Optimal Path: [(0, 0), (1, 0), (2, 0), (2, 1), (2, 2), (3, 2), (4, 2), (4, 3), (4, 4)]\n"
     ]
    }
   ],
   "source": [
    "custom_maze = [\n",
    "    [0, 1, 0, 0, 0],\n",
    "    [0, 1, 1, 1, 0],\n",
    "    [0, 0, 0, 1, 0],\n",
    "    [1, 1, 0, 1, 0],\n",
    "    [0, 0, 0, 0, 0]\n",
    "]\n",
    "custom_optimal_path = dfs(custom_maze, (0,0), (4,4))\n",
    "visualize_maze(custom_maze, custom_optimal_path)\n",
    "print(\"Optimal Path:\", custom_optimal_path)\n"
   ]
  },
  {
   "cell_type": "markdown",
   "id": "1c46170f-fef5-46fd-8d42-153676916495",
   "metadata": {},
   "source": [
    "### 9. Conclusion\r\n",
    "This project provides a complete Jupyter Notebook-style workflow for robot navigation in a maze using DFS, including sample datasets, Python code, and visualization. You can extend this strategy with other search methods or more complex mazes as needed"
   ]
  },
  {
   "cell_type": "code",
   "execution_count": null,
   "id": "18261282-5d54-4472-b34a-7dea16d7cd45",
   "metadata": {},
   "outputs": [],
   "source": []
  }
 ],
 "metadata": {
  "kernelspec": {
   "display_name": "Python 3 (ipykernel)",
   "language": "python",
   "name": "python3"
  },
  "language_info": {
   "codemirror_mode": {
    "name": "ipython",
    "version": 3
   },
   "file_extension": ".py",
   "mimetype": "text/x-python",
   "name": "python",
   "nbconvert_exporter": "python",
   "pygments_lexer": "ipython3",
   "version": "3.11.7"
  }
 },
 "nbformat": 4,
 "nbformat_minor": 5
}
